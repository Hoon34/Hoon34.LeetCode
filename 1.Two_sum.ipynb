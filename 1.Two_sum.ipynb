{
 "cells": [
  {
   "cell_type": "markdown",
   "metadata": {},
   "source": [
    "# Q. Two Sum"
   ]
  },
  {
   "cell_type": "markdown",
   "metadata": {},
   "source": [
    "정수로 이루어진 Array를 입력받았을 때, 더해서 Target Num이 되는 숫자 두 개의 index를 구하라.\n",
    "\n",
    "ex)\n",
    "Input: nums = [2,7,11,15], target = 9\n",
    "\n",
    "Output: [0,1]"
   ]
  },
  {
   "cell_type": "code",
   "execution_count": 1,
   "metadata": {
    "scrolled": true
   },
   "outputs": [
    {
     "name": "stdout",
     "output_type": "stream",
     "text": [
      "Input array: 1,2,3,56,8,9,10\n",
      "Input target number: 66\n"
     ]
    }
   ],
   "source": [
    "num = [x for x in input('Input array: ').split(',')]\n",
    "target = int(input('Input target number: '))"
   ]
  },
  {
   "cell_type": "code",
   "execution_count": 2,
   "metadata": {},
   "outputs": [
    {
     "name": "stdout",
     "output_type": "stream",
     "text": [
      "[3, 6]\n"
     ]
    }
   ],
   "source": [
    "breaker = False\n",
    "for x in range(len(num)-1):\n",
    "    y = x+1\n",
    "    while y<len(num):\n",
    "        if int(num[x])+int(num[y])!= target:\n",
    "            y+=1\n",
    "        else:\n",
    "            breaker= True\n",
    "            break\n",
    "    if breaker == True:\n",
    "        break\n",
    "print([x,y])"
   ]
  },
  {
   "cell_type": "code",
   "execution_count": null,
   "metadata": {},
   "outputs": [],
   "source": []
  }
 ],
 "metadata": {
  "kernelspec": {
   "display_name": "Python 3",
   "language": "python",
   "name": "python3"
  },
  "language_info": {
   "codemirror_mode": {
    "name": "ipython",
    "version": 3
   },
   "file_extension": ".py",
   "mimetype": "text/x-python",
   "name": "python",
   "nbconvert_exporter": "python",
   "pygments_lexer": "ipython3",
   "version": "3.7.6"
  }
 },
 "nbformat": 4,
 "nbformat_minor": 4
}
