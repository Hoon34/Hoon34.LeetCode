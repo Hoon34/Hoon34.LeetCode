{
 "cells": [
  {
   "cell_type": "markdown",
   "metadata": {},
   "source": [
    "# Q.Add Two Numbers"
   ]
  },
  {
   "cell_type": "markdown",
   "metadata": {},
   "source": [
    "You are given two non-empty linked lists representing two non-negative integers. \n",
    "\n",
    "The digits are stored in reverse order, and each of their nodes contains a single digit. Add the two numbers and return the sum as a linked list.\n",
    "\n",
    "You may assume the two numbers do not contain any leading zero, except the number 0 itself.\n",
    "\n",
    "ex)\n",
    "\n",
    "Input: l1 = [2,4,3], l2 = [5,6,4]\n",
    "\n",
    "Output: [7,0,8]"
   ]
  },
  {
   "cell_type": "code",
   "execution_count": 33,
   "metadata": {},
   "outputs": [],
   "source": [
    "import time\n",
    "l1 = [9,9,9,9,9,9,9]\n",
    "l2 = [9,9,9,9]"
   ]
  },
  {
   "cell_type": "code",
   "execution_count": 36,
   "metadata": {},
   "outputs": [
    {
     "name": "stdout",
     "output_type": "stream",
     "text": [
      "[8, 9, 9, 9, 0, 0, 0, 1]\n",
      "time: 0.0009987354278564453\n"
     ]
    }
   ],
   "source": [
    "start = time.time()\n",
    "\n",
    "while len(l1) > len(l2):\n",
    "    l2.append(0)\n",
    "\n",
    "while len(l1) < len(l2):\n",
    "    l1.append(0)\n",
    "\n",
    "output = []\n",
    "cur = 0\n",
    "for x,y in zip(l1,l2):\n",
    "    data = x+y\n",
    "    output.append( (data+ cur) % 10  )\n",
    "    cur = (data+cur)//10\n",
    "\n",
    "if cur == 1:\n",
    "    output.append(1)\n",
    "    \n",
    "print(output)\n",
    "print(\"time:\", time.time() - start )"
   ]
  },
  {
   "cell_type": "code",
   "execution_count": null,
   "metadata": {},
   "outputs": [],
   "source": []
  }
 ],
 "metadata": {
  "kernelspec": {
   "display_name": "Python 3",
   "language": "python",
   "name": "python3"
  },
  "language_info": {
   "codemirror_mode": {
    "name": "ipython",
    "version": 3
   },
   "file_extension": ".py",
   "mimetype": "text/x-python",
   "name": "python",
   "nbconvert_exporter": "python",
   "pygments_lexer": "ipython3",
   "version": "3.7.6"
  }
 },
 "nbformat": 4,
 "nbformat_minor": 4
}
